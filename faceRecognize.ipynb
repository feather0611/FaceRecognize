{
 "cells": [
  {
   "cell_type": "code",
   "execution_count": 2,
   "id": "1272e916-c946-40b5-9f03-9036b760536a",
   "metadata": {},
   "outputs": [],
   "source": [
    "import cv2 as cv"
   ]
  },
  {
   "cell_type": "code",
   "execution_count": 3,
   "id": "2d56b2be-9786-466a-a547-e3ec7bf08555",
   "metadata": {},
   "outputs": [],
   "source": [
    "import os\n",
    "import random\n",
    "\n",
    "img = cv.imread('./att_faces/s1/1.pgm',cv.IMREAD_GRAYSCALE)\n",
    "\n",
    "cv.imshow('img', img)\n",
    "cv.waitKey(0)\n",
    "cv.destroyAllWindows()"
   ]
  },
  {
   "cell_type": "code",
   "execution_count": 32,
   "id": "1ddec191-bf64-414c-a65c-6b05e6195d3d",
   "metadata": {},
   "outputs": [],
   "source": [
    "import os\n",
    "import glob\n",
    "import random\n",
    "import numpy as np\n",
    "\n",
    "def loadDataset(dir_name='./att_faces'):\n",
    "    sampleNum = 5\n",
    "    X_train, Y_train, X_test, Y_test = [], [], [], []\n",
    "    for i in range(40):\n",
    "        img_path = dir_name+'/s'+str(i+1)+'/'\n",
    "        sampled = random.sample(range(10), sampleNum)\n",
    "        data = [cv.imread(d, 0) for d in glob.glob(os.path.join(img_path, '*.pgm'))]\n",
    "        X_train.extend([data[i].ravel() for i in range(10) if i in sampled])\n",
    "        X_test.extend([data[i].ravel() for i in range(10) if i not in sampled])\n",
    "        Y_test.extend([i] * (10 - sampleNum))\n",
    "        Y_train.extend([i] * sampleNum)\n",
    "    return np.array(X_train), np.array(Y_train), np.array(X_test), np.array(Y_test)"
   ]
  },
  {
   "cell_type": "code",
   "execution_count": 68,
   "id": "fc982e45-597f-408e-be2d-683869d17bdb",
   "metadata": {},
   "outputs": [],
   "source": [
    "from sklearn.decomposition import PCA\n",
    "from sklearn.discriminant_analysis import LinearDiscriminantAnalysis as LDA\n",
    "\n",
    "def pca_process(X_train, Y_train, X_test, dimension):\n",
    "    pca = PCA(n_components=dimension)\n",
    "    pca.fit(X_train, Y_train)\n",
    "    X_train_trans = pca.transform(X_train)\n",
    "    X_test_trans = pca.transform(X_test)\n",
    "    return X_train_trans, X_test_trans\n",
    "\n",
    "def lda_process(X_train, X_test, Y_train):\n",
    "    lda = LDA()\n",
    "    X_train = lda.fit_transform(X_train, Y_train)\n",
    "    X_test = lda.transform(X_test)\n",
    "    return X_train, X_test"
   ]
  },
  {
   "cell_type": "code",
   "execution_count": 59,
   "id": "516d0d64-e9d7-46b4-a38f-6f3c0699be54",
   "metadata": {},
   "outputs": [],
   "source": [
    "from sklearn.ensemble import RandomForestClassifier\n",
    "\n",
    "def rfc_model(dimension, X_train, X_test, Y_train, Y_test):\n",
    "    model = RandomForestClassifier()\n",
    "    model.fit(X_train, Y_train)\n",
    "    pred = model.predict(X_test)\n",
    "    print('dimension %d: RandomForestClassfier: %.2f%%' % (dimension, (pred == np.array(Y_test)).mean() * 100))\n",
    "    return Y_test.tolist(), pred"
   ]
  },
  {
   "cell_type": "code",
   "execution_count": 57,
   "id": "451a32a5-a816-45f2-85c8-adbf077d9a51",
   "metadata": {},
   "outputs": [],
   "source": [
    "def show_matrix_in_plot(name, dimension, con_mat):\n",
    "    plt.imshow(con_mat, interpolation='nearest', cmap=plt.cm.gray)\n",
    "    plt.title('{} Dimension {} Confusion matrix'.format(name, dimension))\n",
    "    plt.colorbar()\n",
    "    tick_marks = np.arange(4)\n",
    "    plt.xticks(tick_marks, tick_marks)\n",
    "    plt.yticks(tick_marks, tick_marks)\n",
    "    plt.ylabel('True label')\n",
    "    plt.xlabel('Predicted label')\n",
    "    plt.show()"
   ]
  },
  {
   "cell_type": "code",
   "execution_count": 64,
   "id": "ca764bec-7cf9-4d5b-b286-2301fc36426d",
   "metadata": {},
   "outputs": [
    {
     "name": "stdout",
     "output_type": "stream",
     "text": [
      "dimension 10: RandomForestClassfier: 87.50%\n"
     ]
    }
   ],
   "source": [
    "dimension = 10\n",
    "X_train, Y_train, X_test, Y_test = loadDataset()\n",
    "X_train_trans, X_test_trans = pca_process(X_train, Y_train, X_test, dimension)\n",
    "answer, predict = rfc_model(dimension, X_train_trans, X_test_trans, Y_train, Y_test)"
   ]
  },
  {
   "cell_type": "code",
   "execution_count": 65,
   "id": "8caecc25-4248-4420-9360-888621998c77",
   "metadata": {},
   "outputs": [
    {
     "data": {
      "image/png": "[encoded data removed]",
      "text/plain": [
       "<Figure size 432x288 with 2 Axes>"
      ]
     },
     "metadata": {
      "needs_background": "light"
     },
     "output_type": "display_data"
    }
   ],
   "source": [
    "import matplotlib.pyplot as plt\n",
    "from sklearn.metrics import confusion_matrix\n",
    "\n",
    "con_mat = confusion_matrix(predict, answer)\n",
    "show_matrix_in_plot('PCA', dimension, con_mat)"
   ]
  },
  {
   "cell_type": "code",
   "execution_count": 69,
   "id": "f2e01350-665b-4b24-a0c6-b392490c53af",
   "metadata": {},
   "outputs": [
    {
     "name": "stdout",
     "output_type": "stream",
     "text": [
      "dimension 10: RandomForestClassfier: 88.50%\n"
     ]
    },
    {
     "data": {
      "image/png": "[encoded data removed]",
      "text/plain": [
       "<Figure size 432x288 with 2 Axes>"
      ]
     },
     "metadata": {
      "needs_background": "light"
     },
     "output_type": "display_data"
    }
   ],
   "source": [
    "X_train, Y_train, X_test, Y_test = loadDataset()\n",
    "X_train_trans, X_test_trans = pca_process(X_train, Y_train, X_test, dimension)\n",
    "X_train_trans, X_test_trans = lda_process(X_train_trans, X_test_trans, Y_train)\n",
    "answer, predict = rfc_model(dimension, X_train_trans, X_test_trans, Y_train, Y_test)\n",
    "\n",
    "con_mat = confusion_matrix(predict, answer)\n",
    "show_matrix_in_plot('PCA', dimension, con_mat)"
   ]
  },
  {
   "cell_type": "code",
   "execution_count": null,
   "id": "3b1a590c-8421-4042-99db-03e78bd09bfa",
   "metadata": {},
   "outputs": [],
   "source": []
  }
 ],
 "metadata": {
  "kernelspec": {
   "display_name": "Python 3",
   "language": "python",
   "name": "python3"
  },
  "language_info": {
   "codemirror_mode": {
    "name": "ipython",
    "version": 3
   },
   "file_extension": ".py",
   "mimetype": "text/x-python",
   "name": "python",
   "nbconvert_exporter": "python",
   "pygments_lexer": "ipython3",
   "version": "3.8.8"
  }
 },
 "nbformat": 4,
 "nbformat_minor": 5
}
